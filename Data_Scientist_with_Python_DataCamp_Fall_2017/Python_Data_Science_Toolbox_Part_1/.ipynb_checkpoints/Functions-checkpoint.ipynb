{
 "cells": [
  {
   "cell_type": "markdown",
   "metadata": {},
   "source": [
    "# Functions\n",
    "\n",
    "## Single parameters and return values\n",
    "\n",
    "Python built-in functions are great but you will need to write your own to work with your own data. \n",
    "\n",
    "The first part of a function, the _function the header_, tells Python that is a function with the keyword `def`, specifies the name of the function, gives the parameters in parentheses, and it finishes with a `:`. Then comes the _function body_, which is indented, and is where the code goes. Finally, the _Docstrings_ are the documentation of the functions you write and they come on the line immediately below the function header. They are written within triple quotes `\"\"\"`\n",
    "\n",
    "**Parameters vs Arguments**\n",
    "When you define a function, you write parameters in the function header. When you call a function, you pass arguments into the function.\n",
    "\n",
    "If you don't want to print the results from a function but rather pass them to a variable, use the `return` keyword instead of `print`. **Important**, if you assign a function to a variable but the function does not print anything (it returns), the variable will be of type `NoneType`! "
   ]
  },
  {
   "cell_type": "code",
   "execution_count": 1,
   "metadata": {},
   "outputs": [
    {
     "name": "stdout",
     "output_type": "stream",
     "text": [
      "16\n",
      "25\n",
      "78\n"
     ]
    },
    {
     "data": {
      "text/plain": [
       "NoneType"
      ]
     },
     "execution_count": 1,
     "metadata": {},
     "output_type": "execute_result"
    }
   ],
   "source": [
    "#Printing results\n",
    "def square(num):\n",
    "    \"\"\"Returns the square of a value\"\"\"\n",
    "    x = num ** 2\n",
    "    print(x)\n",
    "\n",
    "square(4)\n",
    "\n",
    "#Passing results to variable\n",
    "def square(num):\n",
    "    \"\"\"Returns the square of a value\"\"\"\n",
    "    x = num ** 2\n",
    "    return x\n",
    "\n",
    "n = square(5)\n",
    "print(n)\n",
    "\n",
    "# Assigning a funtion that returns to a variable will result in type NoneType\n",
    "\n",
    "num = 78\n",
    "x = print(num)\n",
    "type(x)\n",
    "\n"
   ]
  },
  {
   "cell_type": "markdown",
   "metadata": {},
   "source": [
    "## Multiple parameters and return values\n",
    "\n",
    "You can specify multiple parameters in a function header. The order of the arguments matches the order of the parameters!\n",
    "\n",
    "To have multiple return values in a function, you can constructing objects within the function body known as `tuples`.  In fact, the call `return x, y` packs `x` and `y` into a tuple under the hood!\n",
    "\n",
    "## Tuples\n",
    "Tuples are similar to lists in that they can contain multiple values and of multiple types, and they can be indexed. However, there are some key differences:\n",
    "\n",
    "1) they are immutable  \n",
    "2) they are constructed with parentheses  \n",
    "3) you can unpack a tuple by assign its values to multiple variable in one line. They will be passed in the orders they appeared in the tuples  "
   ]
  },
  {
   "cell_type": "code",
   "execution_count": 2,
   "metadata": {},
   "outputs": [
    {
     "name": "stdout",
     "output_type": "stream",
     "text": [
      "8\n",
      "\n",
      "\n",
      "<class 'tuple'>\n",
      "\n",
      "\n",
      "2\n",
      "4\n",
      "6\n",
      "\n",
      "\n",
      "(8, 9)\n",
      "\n",
      "\n",
      "8\n",
      "9\n"
     ]
    }
   ],
   "source": [
    "def square_to_power(value1, value2):\n",
    "    \"\"\"Raises a value to the power of a second value\"\"\"\n",
    "    num = value1 ** value2\n",
    "    print(num)\n",
    "\n",
    "square_to_power(2, 3)\n",
    "print(\"\\n\")\n",
    "\n",
    "## Assigning values in a tuple to multiple variables\n",
    "numbers = (2, 4, 6)\n",
    "print(type(numbers))\n",
    "print(\"\\n\")\n",
    "a, b, c = numbers\n",
    "print(a)\n",
    "print(b)\n",
    "print(c)\n",
    "print(\"\\n\")\n",
    "\n",
    "# A fcuntion with multiple return values using tuples\n",
    "\n",
    "def square_both(value1, value2):\n",
    "    num1 = value1 ** value2\n",
    "    num2 = value2 ** value1\n",
    "    new_tuple = (num1, num2)\n",
    "    \n",
    "    return(new_tuple)\n",
    "\n",
    "result = square_both(2, 3)\n",
    "print(result)\n",
    "print(\"\\n\")\n",
    "\n",
    "# Pass the results to two variables\n",
    "x, y = result\n",
    "print(x)\n",
    "print(y)"
   ]
  },
  {
   "cell_type": "markdown",
   "metadata": {},
   "source": [
    "Here is a function that will read a csv file with Tweeter data using Pandas and it will calculate the number of tweets per language:"
   ]
  },
  {
   "cell_type": "code",
   "execution_count": 3,
   "metadata": {},
   "outputs": [
    {
     "name": "stdout",
     "output_type": "stream",
     "text": [
      "{'en': 97, 'et': 1, 'und': 2}\n"
     ]
    }
   ],
   "source": [
    "# Define count_entries()\n",
    "import pandas as pd\n",
    "\n",
    "tweets_df = pd.read_csv(\"tweets.csv\")\n",
    "\n",
    "def count_entries(df, col_name):\n",
    "    \"\"\"Return a dictionary with counts of \n",
    "    occurrences as value for each key.\"\"\"\n",
    "\n",
    "    # Initialize an empty dictionary: langs_count\n",
    "    langs_count = {}\n",
    "    \n",
    "    # Extract column from DataFrame: col\n",
    "    col = df[col_name]\n",
    "    \n",
    "    # Iterate over lang column in DataFrame\n",
    "    for entry in col:\n",
    "\n",
    "        # If the language is in langs_count, add 1\n",
    "        if entry in langs_count.keys():\n",
    "            langs_count[entry] += 1\n",
    "        # Else add the language to langs_count, set the value to 1\n",
    "        else:\n",
    "            langs_count[entry] = 1\n",
    "\n",
    "    # Return the langs_count dictionary\n",
    "    return langs_count\n",
    "\n",
    "# Call count_entries(): result\n",
    "result = count_entries(tweets_df, \"lang\")\n",
    "\n",
    "# Print the result\n",
    "print(result)\n"
   ]
  }
 ],
 "metadata": {
  "kernelspec": {
   "display_name": "Python 3",
   "language": "python",
   "name": "python3"
  },
  "language_info": {
   "codemirror_mode": {
    "name": "ipython",
    "version": 3
   },
   "file_extension": ".py",
   "mimetype": "text/x-python",
   "name": "python",
   "nbconvert_exporter": "python",
   "pygments_lexer": "ipython3",
   "version": "3.6.1"
  }
 },
 "nbformat": 4,
 "nbformat_minor": 2
}
