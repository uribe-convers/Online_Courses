{
 "cells": [
  {
   "cell_type": "markdown",
   "metadata": {},
   "source": [
    "# Error Handling\n",
    "\n",
    "You should write functions that catch specific errors and return informative error messages. An easy way to do this is with exceptions using the keywords `try` and `except`, where python tries to execute some code but if it can't, it outputs an error message specified by you. You can also specify which kind of error to catch and output a message for those only. For example, `except TypeError:` will only catch errors related to `type`."
   ]
  },
  {
   "cell_type": "code",
   "execution_count": 11,
   "metadata": {},
   "outputs": [
    {
     "name": "stdout",
     "output_type": "stream",
     "text": [
      "1.4142135623730951 \n",
      "\n",
      "2.1213203435596424 \n",
      "\n",
      "error: x must be an int or float\n"
     ]
    }
   ],
   "source": [
    "# General errors\n",
    "def sqrt(x):\n",
    "    try:\n",
    "        return x ** 0.5\n",
    "    except:\n",
    "        print(\"error: x must be an int or float\")\n",
    "        \n",
    "print(sqrt(2), \"\\n\")\n",
    "print(sqrt(4.5), \"\\n\")\n",
    "sqrt(\"hello\")\n",
    "\n",
    "# Specific error \n",
    "def sqrt(x):\n",
    "    try:\n",
    "        return x ** 0.5\n",
    "    except TypeError:\n",
    "        print(\"error: x must be an int or float\")"
   ]
  },
  {
   "cell_type": "code",
   "execution_count": null,
   "metadata": {},
   "outputs": [],
   "source": []
  }
 ],
 "metadata": {
  "kernelspec": {
   "display_name": "Python 3",
   "language": "python",
   "name": "python3"
  },
  "language_info": {
   "codemirror_mode": {
    "name": "ipython",
    "version": 3
   },
   "file_extension": ".py",
   "mimetype": "text/x-python",
   "name": "python",
   "nbconvert_exporter": "python",
   "pygments_lexer": "ipython3",
   "version": "3.6.1"
  }
 },
 "nbformat": 4,
 "nbformat_minor": 2
}
