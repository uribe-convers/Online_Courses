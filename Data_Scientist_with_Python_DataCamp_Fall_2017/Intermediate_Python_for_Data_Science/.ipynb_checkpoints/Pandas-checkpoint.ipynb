{
 "cells": [
  {
   "cell_type": "markdown",
   "metadata": {},
   "source": [
    "# Pandas"
   ]
  },
  {
   "cell_type": "markdown",
   "metadata": {},
   "source": [
    "Python can handle tables (tabular data) using the package Pandas. This type of data (usually rectangular) comes with observation (samples) in rows and variables for each observation in the columns. ONe could try to work with a 2D array in Numpy, but arrays can only contain data from a single type! That's the advantage of Pandas, which was built on Numpy but it's more high level for data manipulation.\n",
    "\n",
    "The data is stored in **DataFrames** where and each row and column has unique labels and each column can contain different data types. You can start a dataframe manually from a dictionary where the **keys are the column labels** and the values are the data column by column. Then the function `pandas.dataframe(dict)` will create the dataframe. Finally, a list with the appropriate row labels can be given to the `dict.index` function and the dataframe is ready.\n",
    "\n",
    "However, building a dataframe manually is not realistic in many cases, so you import a file that already contains the data, usually a comma separated values (CSV) file. This can be easily done with the `pandas.read_csv()` function and the path to the file. A useful argument of this function is `index_col = `, which assigns the information of a column to the row labels."
   ]
  },
  {
   "cell_type": "code",
   "execution_count": 1,
   "metadata": {},
   "outputs": [
    {
     "name": "stdout",
     "output_type": "stream",
     "text": [
      "   cars_per_cap        country  drives_right\n",
      "0           809  United States          True\n",
      "1           731      Australia         False\n",
      "2           588          Japan         False\n",
      "3            18          India         False\n",
      "4           200         Russia          True\n",
      "5            70        Morocco          True\n",
      "6            45          Egypt          True\n",
      "\n",
      "\n",
      "     cars_per_cap        country  drives_right\n",
      "US            809  United States          True\n",
      "AUS           731      Australia         False\n",
      "JAP           588          Japan         False\n",
      "IN             18          India         False\n",
      "RU            200         Russia          True\n",
      "MOR            70        Morocco          True\n",
      "EG             45          Egypt          True\n"
     ]
    }
   ],
   "source": [
    "# From lists, to a dictionary, to a dataframe\n",
    "\n",
    "# Pre-defined lists\n",
    "names = ['United States', 'Australia', 'Japan', 'India', 'Russia', 'Morocco', 'Egypt']\n",
    "dr =  [True, False, False, False, True, True, True]\n",
    "cpc = [809, 731, 588, 18, 200, 70, 45]\n",
    "\n",
    "# Import pandas as pd\n",
    "import pandas as pd\n",
    "\n",
    "# Create dictionary my_dict with three key:value pairs: my_dict\n",
    "my_dict = {\"country\":names, \"drives_right\":dr, \"cars_per_cap\":cpc}\n",
    "\n",
    "# Build a DataFrame cars from my_dict: cars\n",
    "cars = pd.DataFrame(my_dict)\n",
    "\n",
    "# Print cars\n",
    "print(cars)\n",
    "print(\"\\n\")\n",
    "\n",
    "# The row labels are automatically set to numbers, to change them something meaningful \n",
    "\n",
    "# Definition of row_labels\n",
    "row_labels = ['US', 'AUS', 'JAP', 'IN', 'RU', 'MOR', 'EG']\n",
    "\n",
    "# Specify row labels of cars\n",
    "cars.index = row_labels\n",
    "\n",
    "# Print cars again\n",
    "print(cars)"
   ]
  },
  {
   "cell_type": "markdown",
   "metadata": {},
   "source": [
    "Creating dataframes from lists and dictionaries works but it's inefficient and inconvenient, especially if the data are large. Instead, it's better to import the CSV file directly into a dataframe."
   ]
  },
  {
   "cell_type": "code",
   "execution_count": 2,
   "metadata": {},
   "outputs": [
    {
     "name": "stdout",
     "output_type": "stream",
     "text": [
      "  Unnamed: 0  cars_per_cap        country  drives_right\n",
      "0         US           809  United States          True\n",
      "1        AUS           731      Australia         False\n",
      "2        JAP           588          Japan         False\n",
      "3         IN            18          India         False\n",
      "4         RU           200         Russia          True\n",
      "5        MOR            70        Morocco          True\n",
      "6         EG            45          Egypt          True\n"
     ]
    }
   ],
   "source": [
    "# Import pandas as pd\n",
    "import pandas as pd\n",
    "\n",
    "# Import the cars.csv data (include path if necessary): cars\n",
    "cars = pd.read_csv(\"cars.csv\")\n",
    "\n",
    "# Print out cars\n",
    "print(cars)"
   ]
  },
  {
   "cell_type": "markdown",
   "metadata": {},
   "source": [
    "Notice that the row names were imported as a different column without a column label. To fix it, import the CSV file with an additional argument."
   ]
  },
  {
   "cell_type": "code",
   "execution_count": 3,
   "metadata": {},
   "outputs": [
    {
     "name": "stdout",
     "output_type": "stream",
     "text": [
      "     cars_per_cap        country  drives_right\n",
      "US            809  United States          True\n",
      "AUS           731      Australia         False\n",
      "JAP           588          Japan         False\n",
      "IN             18          India         False\n",
      "RU            200         Russia          True\n",
      "MOR            70        Morocco          True\n",
      "EG             45          Egypt          True\n"
     ]
    }
   ],
   "source": [
    "# Fix import by including index_col\n",
    "cars = pd.read_csv('cars.csv', index_col = 0)\n",
    "\n",
    "print(cars)\n"
   ]
  },
  {
   "cell_type": "markdown",
   "metadata": {},
   "source": [
    "## Indexing and Selecting Data\n",
    "\n",
    "### Column Access [ ]\n",
    "\n",
    "Having row and column labels in your dataframe makes it easy to access specific elements. The first approach is to simply index with square brackets and a column label. However, notice the last line that gets returned and the type of the object. We are dealing with a **Pandas Series**, which can be interpreted as a 1D array that can be labeled. If you paste together many series, you can built a dataframe. \n",
    "\n",
    "If you want to keep the column as a dataframe, use double square brackets. You can also subset with a few columns at the same time and even rows, although this has to be done with a slice and it's uncommon. \n",
    "\n",
    "All these approaches work but are limited, therefore is better to use Pandas specific functionalities, more below."
   ]
  },
  {
   "cell_type": "code",
   "execution_count": 4,
   "metadata": {},
   "outputs": [
    {
     "name": "stdout",
     "output_type": "stream",
     "text": [
      "         country    capital    area  population\n",
      "BR        Brazil   Brasilia   8.516      200.40\n",
      "RU        Russia     Moscow  17.100      143.50\n",
      "IN         India  New Delhi   3.286     1252.00\n",
      "CH         China    Beijing   9.597     1357.00\n",
      "SA  South Africa   Pretoria   1.221       52.98\n",
      "\n",
      "\n",
      "BR          Brazil\n",
      "RU          Russia\n",
      "IN           India\n",
      "CH           China\n",
      "SA    South Africa\n",
      "Name: country, dtype: object\n",
      "<class 'pandas.core.series.Series'>\n",
      "\n",
      "\n",
      "         country\n",
      "BR        Brazil\n",
      "RU        Russia\n",
      "IN         India\n",
      "CH         China\n",
      "SA  South Africa\n",
      "<class 'pandas.core.frame.DataFrame'>\n",
      "\n",
      "\n",
      "         country    capital\n",
      "BR        Brazil   Brasilia\n",
      "RU        Russia     Moscow\n",
      "IN         India  New Delhi\n",
      "CH         China    Beijing\n",
      "SA  South Africa   Pretoria\n",
      "\n",
      "\n",
      "   country    capital    area  population\n",
      "RU  Russia     Moscow  17.100       143.5\n",
      "IN   India  New Delhi   3.286      1252.0\n",
      "CH   China    Beijing   9.597      1357.0\n"
     ]
    }
   ],
   "source": [
    "brics = pd.read_csv(\"brics.csv\", index_col = 0)\n",
    "print(brics)\n",
    "print(\"\\n\")\n",
    "\n",
    "# Return a series\n",
    "print(brics[\"country\"])\n",
    "print(type(brics[\"country\"]))\n",
    "print(\"\\n\")\n",
    "\n",
    "# Return a dataframe\n",
    "print(brics[[\"country\"]])\n",
    "print(type(brics[[\"country\"]]))\n",
    "print(\"\\n\")\n",
    "\n",
    "# A few columns\n",
    "print(brics[[\"country\", \"capital\"]])\n",
    "print(\"\\n\")\n",
    "\n",
    "# Selecting rows\n",
    "print(brics[1:4])"
   ]
  },
  {
   "cell_type": "markdown",
   "metadata": {},
   "source": [
    "### Pandas loc and iloc\n",
    "\n",
    "To access elements more efficiently, use the `loc` and `iloc` functions of Pandas and square brackets, which select parts of data by labels (`loc`) or by positions (`iloc`). \n",
    "\n",
    "### iloc\n",
    "If you only have a pair of square brackets you get a series and the elements of the column will be in multiple lines, use double square brackets to return a dataframe. This can be done to multiple rows too, and importantly, you can also specify the columns that you want returned with a comma and square brackets. Finally, if you want all rows but only a few columns, you can use a slice and a colon."
   ]
  },
  {
   "cell_type": "code",
   "execution_count": 5,
   "metadata": {},
   "outputs": [
    {
     "name": "stdout",
     "output_type": "stream",
     "text": [
      "country       Russia\n",
      "capital       Moscow\n",
      "area            17.1\n",
      "population     143.5\n",
      "Name: RU, dtype: object\n",
      "\n",
      "\n",
      "   country capital  area  population\n",
      "RU  Russia  Moscow  17.1       143.5\n",
      "\n",
      "\n",
      "   country    capital    area  population\n",
      "RU  Russia     Moscow  17.100       143.5\n",
      "IN   India  New Delhi   3.286      1252.0\n",
      "CH   China    Beijing   9.597      1357.0\n",
      "\n",
      "\n",
      "   country    capital\n",
      "RU  Russia     Moscow\n",
      "IN   India  New Delhi\n",
      "CH   China    Beijing\n",
      "\n",
      "\n",
      "         country    capital\n",
      "BR        Brazil   Brasilia\n",
      "RU        Russia     Moscow\n",
      "IN         India  New Delhi\n",
      "CH         China    Beijing\n",
      "SA  South Africa   Pretoria\n"
     ]
    }
   ],
   "source": [
    "# Returns a series\n",
    "print(brics.loc[\"RU\"])\n",
    "print(\"\\n\")\n",
    "\n",
    "# Returns a dataframe\n",
    "print(brics.loc[[\"RU\"]])\n",
    "print(\"\\n\")\n",
    "\n",
    "# Returns multiple rows\n",
    "print(brics.loc[[\"RU\", \"IN\", \"CH\"]])\n",
    "print(\"\\n\")\n",
    "\n",
    "# Returns multiple rows and some columns\n",
    "print(brics.loc[[\"RU\", \"IN\", \"CH\"], [\"country\", \"capital\"]])\n",
    "print(\"\\n\")\n",
    "\n",
    "# Returns all rows and some columns\n",
    "print(brics.loc[:, [\"country\", \"capital\"]])"
   ]
  },
  {
   "cell_type": "markdown",
   "metadata": {},
   "source": [
    "### iloc\n",
    "\n",
    "This function works very similarly to `loc` but uses the indices instead of the labels."
   ]
  },
  {
   "cell_type": "code",
   "execution_count": 6,
   "metadata": {},
   "outputs": [
    {
     "name": "stdout",
     "output_type": "stream",
     "text": [
      "   country capital  area  population\n",
      "RU  Russia  Moscow  17.1       143.5\n",
      "\n",
      "\n",
      "   country    capital    area  population\n",
      "RU  Russia     Moscow  17.100       143.5\n",
      "IN   India  New Delhi   3.286      1252.0\n",
      "CH   China    Beijing   9.597      1357.0\n",
      "\n",
      "\n",
      "   country    capital\n",
      "RU  Russia     Moscow\n",
      "IN   India  New Delhi\n",
      "CH   China    Beijing\n",
      "\n",
      "\n",
      "         country    capital\n",
      "BR        Brazil   Brasilia\n",
      "RU        Russia     Moscow\n",
      "IN         India  New Delhi\n",
      "CH         China    Beijing\n",
      "SA  South Africa   Pretoria\n"
     ]
    }
   ],
   "source": [
    "# Single row\n",
    "print(brics.iloc[[1]])\n",
    "print(\"\\n\")\n",
    "\n",
    "# Multiple rows\n",
    "print(brics.iloc[[1, 2, 3]])\n",
    "print(\"\\n\")\n",
    "\n",
    "# Multiple rows and some columns\n",
    "print(brics.iloc[[1, 2, 3], [0, 1]])\n",
    "print(\"\\n\")\n",
    "\n",
    "# All rows and some columns\n",
    "print(brics.iloc[:, [0, 1]])\n"
   ]
  },
  {
   "cell_type": "code",
   "execution_count": null,
   "metadata": {},
   "outputs": [],
   "source": []
  }
 ],
 "metadata": {
  "kernelspec": {
   "display_name": "Python 3",
   "language": "python",
   "name": "python3"
  },
  "language_info": {
   "codemirror_mode": {
    "name": "ipython",
    "version": 3
   },
   "file_extension": ".py",
   "mimetype": "text/x-python",
   "name": "python",
   "nbconvert_exporter": "python",
   "pygments_lexer": "ipython3",
   "version": "3.6.1"
  }
 },
 "nbformat": 4,
 "nbformat_minor": 2
}
