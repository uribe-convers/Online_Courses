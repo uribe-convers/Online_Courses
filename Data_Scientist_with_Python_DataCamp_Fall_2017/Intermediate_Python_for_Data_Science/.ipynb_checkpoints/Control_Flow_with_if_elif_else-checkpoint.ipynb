{
 "cells": [
  {
   "cell_type": "markdown",
   "metadata": {},
   "source": [
    "# Control Flow:  if, elif, and else statements, while and for loops\n",
    "\n",
    "## The if statement\n",
    "The general expression for an `if` statement is: if a condition is met, then execute an expression. You can have multiple lines of code in the `if` block, and even write what to execute if the condition is not met with an `else` statement. If there are multiple conditions to check, you can use `elif` between the `if` and the `else` statements. Finally, Python will execute the first condition that is met, _even_ if there is a second condition further down. After the first condition is met, Python ends the `if` statement."
   ]
  },
  {
   "cell_type": "code",
   "execution_count": 1,
   "metadata": {},
   "outputs": [],
   "source": [
    "z = 3\n",
    "if z % 2 == 0:\n",
    "    print(\"z is divisible by 2\")\n",
    "elif z % 3 == 0:\n",
    "    print(\"z is divisible by 3\")\n",
    "else:\n",
    "    print(\"z is neither divisible by 2 nor by 3\")"
   ]
  },
  {
   "cell_type": "markdown",
   "metadata": {},
   "source": [
    "## The While Loop\n",
    "\n",
    "The syntax of the `while` loop is very similar to the `if` statement but unlike the `if` statement that is executed once, the `while` loop executes a block of code many times until the condition is not longer met. In other words, it's a repeated `if` statement.  For example, we have an error of 50 and we want to keep dividing it by 4 until the result is less than 1."
   ]
  },
  {
   "cell_type": "code",
   "execution_count": 2,
   "metadata": {},
   "outputs": [],
   "source": [
    "error = 50\n",
    "while error > 1:\n",
    "    error = error / 4\n",
    "    print(error)"
   ]
  },
  {
   "cell_type": "markdown",
   "metadata": {},
   "source": [
    "## The For Loop\n",
    "This loop works with two arguments, the variable (usually an element) and the object. It will execute code for each element in an object independently. For example, to print every element in a list do the following:"
   ]
  },
  {
   "cell_type": "code",
   "execution_count": 3,
   "metadata": {},
   "outputs": [],
   "source": [
    "fam = [23, 4543, 643, 245]\n",
    "\n",
    "# Basic for loop\n",
    "for i in fam:\n",
    "    print(i)"
   ]
  },
  {
   "cell_type": "markdown",
   "metadata": {},
   "source": [
    "However, if you also want to print the index of each element you can use the `enumerate` built-in function that creates a counter at each iteration:"
   ]
  },
  {
   "cell_type": "code",
   "execution_count": 4,
   "metadata": {},
   "outputs": [],
   "source": [
    "for j, i in enumerate(fam):\n",
    "    print(\"index \" + str(j) + \" : \" + str(i))"
   ]
  },
  {
   "cell_type": "markdown",
   "metadata": {},
   "source": [
    "It also works on strings, dictionaries, and Pandas dataframes"
   ]
  },
  {
   "cell_type": "code",
   "execution_count": 5,
   "metadata": {},
   "outputs": [
    {
     "name": "stdout",
     "output_type": "stream",
     "text": [
      "F\n",
      "A\n",
      "M\n",
      "I\n",
      "L\n",
      "Y\n"
     ]
    }
   ],
   "source": [
    "x = \"family\"\n",
    "for i in x:\n",
    "    print(i.capitalize())"
   ]
  },
  {
   "cell_type": "markdown",
   "metadata": {},
   "source": [
    "Loop over a list of list using indexing. Write a `for` loop that goes through each sublist of house and prints out `the x is y sqm`, where x is the name of the room and y is the area of the room."
   ]
  },
  {
   "cell_type": "code",
   "execution_count": 6,
   "metadata": {},
   "outputs": [
    {
     "name": "stdout",
     "output_type": "stream",
     "text": [
      "the hallway is 11.25 sqm\n",
      "the kitchen is 18.0 sqm\n",
      "the living room is 20.0 sqm\n",
      "the bedroom is 10.75 sqm\n",
      "the bathroom is 9.5 sqm\n"
     ]
    }
   ],
   "source": [
    "# house list of lists\n",
    "house = [[\"hallway\", 11.25], \n",
    "         [\"kitchen\", 18.0], \n",
    "         [\"living room\", 20.0], \n",
    "         [\"bedroom\", 10.75], \n",
    "         [\"bathroom\", 9.50]]\n",
    "         \n",
    "# Build a for loop from scratch\n",
    "\n",
    "for x in house:\n",
    "    print(\"the \" + str(x[0]) + \" is \" + str(x[1]) + \" sqm\")"
   ]
  },
  {
   "cell_type": "markdown",
   "metadata": {},
   "source": [
    "### Looping over dictionaries\n",
    "\n",
    "The structure of a loop on thee data types is similar but the way you define the sequence changes. For example to iterate over a the keys and values of a dictionary, we have to use the **method** `.items()` on the dictionary. **Remember** that dictionaries are not order and so the order for iteration is not fixed either! Then in the `for` loop, the first variable gets the `keys` and the second one the `values`."
   ]
  },
  {
   "cell_type": "code",
   "execution_count": 7,
   "metadata": {},
   "outputs": [
    {
     "name": "stdout",
     "output_type": "stream",
     "text": [
      "the capital of spain is madrid\n",
      "the capital of france is paris\n",
      "the capital of germany is bonn\n",
      "the capital of norway is oslo\n",
      "the capital of italy is rome\n",
      "the capital of poland is warsaw\n",
      "the capital of australia is vienna\n"
     ]
    }
   ],
   "source": [
    "#Write a for loop that goes through each key:value pair of europe. On each iteration, \n",
    "# \"the capital of x is y\" should be printed out, where x is the key and y is the value of the pair.\n",
    "\n",
    "europe = {'spain':'madrid', 'france':'paris', 'germany':'bonn', \n",
    "          'norway':'oslo', 'italy':'rome', 'poland':'warsaw', 'australia':'vienna' }\n",
    "\n",
    "for k, v in europe.items():\n",
    "    print(\"the capital of \" + k + \" is \" + v)"
   ]
  },
  {
   "cell_type": "markdown",
   "metadata": {},
   "source": [
    "### Looping over Numpy arrays\n",
    "\n",
    "The basic loop structure works on a 1N array, however, if there is a 2N array, the basic loop will print each array entirely. To iterate over each element of each array, we need to use the Numpy **function** `numpy.nditer()`."
   ]
  },
  {
   "cell_type": "code",
   "execution_count": 8,
   "metadata": {},
   "outputs": [
    {
     "name": "stdout",
     "output_type": "stream",
     "text": [
      "<class 'numpy.ndarray'>\n",
      "1.65\n",
      "1.78\n",
      "1.58\n",
      "1.8\n",
      "1.57\n",
      "<class 'numpy.ndarray'>\n",
      "1.65\n",
      "1.78\n",
      "1.58\n",
      "1.8\n",
      "1.57\n",
      "56.0\n",
      "67.0\n",
      "63.0\n",
      "93.0\n",
      "57.0\n"
     ]
    }
   ],
   "source": [
    "import numpy as np\n",
    "height = [1.65, 1.78, 1.58, 1.80, 1.57]\n",
    "weight = [56, 67, 63, 93, 57]\n",
    "\n",
    "# For 1N arrays basic loop structure\n",
    "np_height = np.array(height)\n",
    "np_weight = np.array(weight)\n",
    "print(type(np_height))\n",
    "\n",
    "for i in np_height:\n",
    "    print(i)\n",
    "\n",
    "# For 2N arrays\n",
    "np_2N_array = np.array([[1.65, 1.78, 1.58, 1.80, 1.57], [56, 67, 63, 93, 57]])\n",
    "print(type(np_2N_array))\n",
    "\n",
    "for i in np.nditer(np_2N_array):\n",
    "    print(i)"
   ]
  },
  {
   "cell_type": "markdown",
   "metadata": {},
   "source": [
    "### Looping over a Pandas DataFrame\n",
    "\n",
    "If you use the basic structure of a loop on a Pandas dataframe, you will iterate over the column names. To iterate over the rows, you need to use the the `.iterrows()` methods on a dataframe. This method will output the row label and then the data in that row as a Pandas series. Because the data is a series, we can select the information that we want to extract from it.\n",
    "\n",
    "Finally, if we wanted to iterate over every element in a column and do something while creating a new column, we could do a for loop and create a series that we add during each iteration. This works but it's not efficient! See below for a solution."
   ]
  },
  {
   "cell_type": "code",
   "execution_count": 9,
   "metadata": {},
   "outputs": [
    {
     "name": "stdout",
     "output_type": "stream",
     "text": [
      "         country    capital    area  population\n",
      "BR        Brazil   Brasilia   8.516      200.40\n",
      "RU        Russia     Moscow  17.100      143.50\n",
      "IN         India  New Delhi   3.286     1252.00\n",
      "CH         China    Beijing   9.597     1357.00\n",
      "SA  South Africa   Pretoria   1.221       52.98\n",
      "\n",
      "\n",
      "country\n",
      "capital\n",
      "area\n",
      "population\n",
      "\n",
      "\n",
      "BR\n",
      "country         Brazil\n",
      "capital       Brasilia\n",
      "area             8.516\n",
      "population       200.4\n",
      "Name: BR, dtype: object\n",
      "RU\n",
      "country       Russia\n",
      "capital       Moscow\n",
      "area            17.1\n",
      "population     143.5\n",
      "Name: RU, dtype: object\n",
      "IN\n",
      "country           India\n",
      "capital       New Delhi\n",
      "area              3.286\n",
      "population         1252\n",
      "Name: IN, dtype: object\n",
      "CH\n",
      "country         China\n",
      "capital       Beijing\n",
      "area            9.597\n",
      "population       1357\n",
      "Name: CH, dtype: object\n",
      "SA\n",
      "country       South Africa\n",
      "capital           Pretoria\n",
      "area                 1.221\n",
      "population           52.98\n",
      "Name: SA, dtype: object\n",
      "\n",
      "\n",
      "BR: Brasilia\n",
      "RU: Moscow\n",
      "IN: New Delhi\n",
      "CH: Beijing\n",
      "SA: Pretoria\n",
      "\n",
      "\n",
      "         country    capital    area  population       COUNTRY\n",
      "BR        Brazil   Brasilia   8.516      200.40        BRAZIL\n",
      "RU        Russia     Moscow  17.100      143.50        RUSSIA\n",
      "IN         India  New Delhi   3.286     1252.00         INDIA\n",
      "CH         China    Beijing   9.597     1357.00         CHINA\n",
      "SA  South Africa   Pretoria   1.221       52.98  SOUTH AFRICA\n"
     ]
    }
   ],
   "source": [
    "import pandas as pd\n",
    "\n",
    "brics = pd.read_csv(\"brics.csv\", index_col = 0)\n",
    "print(brics)\n",
    "print( \"\\n\")\n",
    "\n",
    "# Iterates over the column names\n",
    "for i in brics:\n",
    "    print(i)\n",
    "print( \"\\n\")\n",
    "    \n",
    "# Iterate over row labels and each Pandas series\n",
    "for label, data in brics.iterrows():\n",
    "    print(label)\n",
    "    print(data)\n",
    "print(\"\\n\")\n",
    "\n",
    "# Iterate over row labels and only the capital column in the Pandas series\n",
    "\n",
    "for label, data in brics.iterrows():\n",
    "    print(label + \": \" + data[\"capital\"])\n",
    "print(\"\\n\")\n",
    "\n",
    "# Create new column\n",
    "for row, data in brics.iterrows():\n",
    "    brics.loc[row, \"COUNTRY\"] = data[\"country\"].upper()\n",
    "print(brics)\n"
   ]
  },
  {
   "cell_type": "markdown",
   "metadata": {},
   "source": [
    "### Calculating something over a whole column: apply\n",
    "\n",
    "To execute a function over a whole column in a Pandas dataframe efficiently, we can use the function `apply`. In this example, we are going to calculate the length of the each country's names and add that to a new column in the dataframe.\n",
    "\n",
    "If you want to `apply` a method and not a function, you need to make some adjustments."
   ]
  },
  {
   "cell_type": "code",
   "execution_count": 10,
   "metadata": {},
   "outputs": [
    {
     "name": "stdout",
     "output_type": "stream",
     "text": [
      "         country    capital    area  population       COUNTRY  name_length\n",
      "BR        Brazil   Brasilia   8.516      200.40        BRAZIL            6\n",
      "RU        Russia     Moscow  17.100      143.50        RUSSIA            6\n",
      "IN         India  New Delhi   3.286     1252.00         INDIA            5\n",
      "CH         China    Beijing   9.597     1357.00         CHINA            5\n",
      "SA  South Africa   Pretoria   1.221       52.98  SOUTH AFRICA           12\n",
      "\n",
      "\n",
      "         country    capital    area  population       COUNTRY  name_length  \\\n",
      "BR        Brazil   Brasilia   8.516      200.40        BRAZIL            6   \n",
      "RU        Russia     Moscow  17.100      143.50        RUSSIA            6   \n",
      "IN         India  New Delhi   3.286     1252.00         INDIA            5   \n",
      "CH         China    Beijing   9.597     1357.00         CHINA            5   \n",
      "SA  South Africa   Pretoria   1.221       52.98  SOUTH AFRICA           12   \n",
      "\n",
      "      CAPITAL  \n",
      "BR   BRASILIA  \n",
      "RU     MOSCOW  \n",
      "IN  NEW DELHI  \n",
      "CH    BEIJING  \n",
      "SA   PRETORIA  \n"
     ]
    }
   ],
   "source": [
    "# Applying a Function\n",
    "brics[\"name_length\"] = brics[\"country\"].apply(len)\n",
    "print(brics)\n",
    "print(\"\\n\")\n",
    "\n",
    "# Applying a method\n",
    "brics[\"CAPITAL\"] = brics[\"capital\"].apply(str.upper)\n",
    "print(brics)"
   ]
  }
 ],
 "metadata": {
  "kernelspec": {
   "display_name": "Python 3",
   "language": "python",
   "name": "python3"
  },
  "language_info": {
   "codemirror_mode": {
    "name": "ipython",
    "version": 3
   },
   "file_extension": ".py",
   "mimetype": "text/x-python",
   "name": "python",
   "nbconvert_exporter": "python",
   "pygments_lexer": "ipython3",
   "version": "3.6.1"
  }
 },
 "nbformat": 4,
 "nbformat_minor": 2
}
