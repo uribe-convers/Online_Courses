{
 "cells": [
  {
   "cell_type": "markdown",
   "metadata": {},
   "source": [
    "# Dictionaries\n",
    "\n",
    "Dictionaries solve problems of inconvenience, not intuitiveness, and inefficiency of having data that is correlated in multiple lists. Instead of having to get the index of one element in one list to subset a second list, we can use the keys and associated values of a dictionary. Dictionaries are define by squarely brackets (`{}`) and a key is separated from its value by a colon (`:`). To access a value, just subset the dictionary by the key you are interested in. Using a dictionary is not only easier and more intuitive but it's also more efficient because the lookups are done very quickly."
   ]
  },
  {
   "cell_type": "code",
   "execution_count": 1,
   "metadata": {},
   "outputs": [
    {
     "name": "stdout",
     "output_type": "stream",
     "text": [
      "56\n",
      "56\n"
     ]
    }
   ],
   "source": [
    "# with lists, not good...\n",
    "population = [30, 56, 23]\n",
    "country = [\"Albania\", \"Moldova\", \"Ecuador\"]\n",
    "Mol = country.index(\"Moldova\")\n",
    "print(population[Mol])\n",
    "\n",
    "# With dictionaries, good!\n",
    "# Creating a dictionary from two list with dict and zip should work but doesn in Jupyter...\n",
    "# new_dict = dict(zip(country, population))\n",
    "world = {\"Albania\":30, \"Moldova\":56, \"Ecuador\":23}\n",
    "print(world[\"Moldova\"])\n"
   ]
  },
  {
   "cell_type": "markdown",
   "metadata": {},
   "source": [
    "If a key already exist in a dictionary and you add it again with another values, the key is maintained but the value is modified. The keys in a dictionary are **immutable objects** and, thus, can't be modified. This also means that a key can't be a list or any other mutable object. To add a new key-value pair to the dictionary, simply subset the dictionary with the new key and assign the new value. You can then check with `key in dict`, which will return `True/False`. \n",
    "\n",
    "To update a value, simply assign a new one to the same key. To delete a key-value pair use `del(dict[key])`"
   ]
  },
  {
   "cell_type": "code",
   "execution_count": 2,
   "metadata": {},
   "outputs": [
    {
     "name": "stdout",
     "output_type": "stream",
     "text": [
      "{'Albania': 30, 'Moldova': 56, 'Ecuador': 23}\n",
      "{'Albania': 30, 'Moldova': 56, 'Ecuador': 23, 'Jamaica': 12}\n",
      "True\n",
      "{'Albania': 30, 'Moldova': 56, 'Ecuador': 23, 'Jamaica': 15}\n",
      "{'Albania': 30, 'Moldova': 56, 'Ecuador': 23}\n"
     ]
    }
   ],
   "source": [
    "print(world)\n",
    "\n",
    "# Add new key and value\n",
    "world[\"Jamaica\"] = 12\n",
    "print(world)\n",
    "\n",
    "print(\"Jamaica\" in world)\n",
    "\n",
    "# Update a value\n",
    "world[\"Jamaica\"] = 15\n",
    "print(world)\n",
    "\n",
    "# Deleting info\n",
    "del(world[\"Jamaica\"])\n",
    "print(world)"
   ]
  },
  {
   "cell_type": "markdown",
   "metadata": {},
   "source": [
    "List and Dictionaries are similar in many ways but one should use them in specific cases.\n",
    "\n",
    "|List|Dictionary|\n",
    "|:---:|:---:|\n",
    "|select, update, and remove: `[]`|select, update, and remove: `[]`|\n",
    "|Indexed by range of numbers | Index by unique key|\n",
    "|Collection of values, order matters, select entire subsets | Fast lookup tables with unique keys|\n",
    "\n",
    "By the way, dictionaries can contain other dictionaries as a value. To get specific information from a dictionary within a dictionary, you can chain square brackets."
   ]
  },
  {
   "cell_type": "code",
   "execution_count": 3,
   "metadata": {},
   "outputs": [
    {
     "name": "stdout",
     "output_type": "stream",
     "text": [
      "paris\n",
      "{'spain': {'capital': 'madrid', 'population': 46.77}, 'france': {'capital': 'paris', 'population': 66.03}, 'germany': {'capital': 'berlin', 'population': 80.62}, 'norway': {'capital': 'oslo', 'population': 5.084}, 'italy': {'capital': 'rome', 'population': 59.83}}\n"
     ]
    }
   ],
   "source": [
    "# Dictionary of dictionaries\n",
    "europe = { 'spain': { 'capital':'madrid', 'population':46.77 },\n",
    "           'france': { 'capital':'paris', 'population':66.03 },\n",
    "           'germany': { 'capital':'berlin', 'population':80.62 },\n",
    "           'norway': { 'capital':'oslo', 'population':5.084 } }\n",
    "\n",
    "\n",
    "# Print out the capital of France\n",
    "print(europe[\"france\"][\"capital\"])\n",
    "\n",
    "# Create sub-dictionary data\n",
    "data = {\"capital\":\"rome\", \"population\":59.83}\n",
    "\n",
    "# Add data to europe under key 'italy'\n",
    "europe[\"italy\"] = data\n",
    "\n",
    "# Print europe\n",
    "print(europe)"
   ]
  }
 ],
 "metadata": {
  "kernelspec": {
   "display_name": "Python 3",
   "language": "python",
   "name": "python3"
  },
  "language_info": {
   "codemirror_mode": {
    "name": "ipython",
    "version": 3
   },
   "file_extension": ".py",
   "mimetype": "text/x-python",
   "name": "python",
   "nbconvert_exporter": "python",
   "pygments_lexer": "ipython3",
   "version": "3.6.1"
  }
 },
 "nbformat": 4,
 "nbformat_minor": 2
}
