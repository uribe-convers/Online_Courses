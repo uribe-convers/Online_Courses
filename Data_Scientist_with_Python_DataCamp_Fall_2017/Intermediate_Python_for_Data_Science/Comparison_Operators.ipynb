{
 "cells": [
  {
   "cell_type": "markdown",
   "metadata": {},
   "source": [
    "# Comparison Operators\n",
    "\n",
    "You use these comparison operators to see how two values relate, and they return a `boolean`. Use them on integers, strings, and other object types, but the two objects have to be of the same type. The only exception is when comparing floats and integers. For string comparison, Python determines the relationship based on alphabetical order."
   ]
  },
  {
   "cell_type": "code",
   "execution_count": 1,
   "metadata": {},
   "outputs": [
    {
     "name": "stdout",
     "output_type": "stream",
     "text": [
      "True\n",
      "False\n",
      "True\n",
      "False\n",
      "True\n"
     ]
    },
    {
     "ename": "TypeError",
     "evalue": "'<' not supported between instances of 'int' and 'str'",
     "output_type": "error",
     "traceback": [
      "\u001b[0;31m---------------------------------------------------------------------------\u001b[0m",
      "\u001b[0;31mTypeError\u001b[0m                                 Traceback (most recent call last)",
      "\u001b[0;32m<ipython-input-1-31dba8d246a1>\u001b[0m in \u001b[0;36m<module>\u001b[0;34m()\u001b[0m\n\u001b[1;32m      6\u001b[0m \u001b[0;34m\u001b[0m\u001b[0m\n\u001b[1;32m      7\u001b[0m \u001b[0;31m# This will result in an error; two diffrent object types!\u001b[0m\u001b[0;34m\u001b[0m\u001b[0;34m\u001b[0m\u001b[0m\n\u001b[0;32m----> 8\u001b[0;31m \u001b[0mprint\u001b[0m\u001b[0;34m(\u001b[0m\u001b[0;36m3\u001b[0m \u001b[0;34m<\u001b[0m \u001b[0;34m\"chris\"\u001b[0m\u001b[0;34m)\u001b[0m\u001b[0;34m\u001b[0m\u001b[0m\n\u001b[0m",
      "\u001b[0;31mTypeError\u001b[0m: '<' not supported between instances of 'int' and 'str'"
     ]
    }
   ],
   "source": [
    "print(2 < 3)\n",
    "print(5 >= 8)\n",
    "print(\"carl\" < \"chris\")\n",
    "print(6 == 7)\n",
    "print(4.7 != 8)\n",
    "\n",
    "# This will result in an error; two diffrent object types!\n",
    "print(3 < \"chris\")"
   ]
  },
  {
   "cell_type": "markdown",
   "metadata": {},
   "source": [
    "You can also use comparison operators in Numpy arrays. When comparing an array of integers to a single values, Python creates a second array of the same length filled with the integer. It returns `boolean` for all the values."
   ]
  },
  {
   "cell_type": "code",
   "execution_count": null,
   "metadata": {},
   "outputs": [],
   "source": [
    "# Create arrays\n",
    "import numpy as np\n",
    "my_house = np.array([18, 20, 10, 8])\n",
    "your_house = np.array([14, 24, 14, 9])\n",
    "print(my_house)\n",
    "print(your_house)\n",
    "\n",
    "# my_house greater than or equal to 18\n",
    "print(my_house >= 18)\n",
    "\n",
    "# my_house less than your_house\n",
    "print(my_house < your_house)"
   ]
  },
  {
   "cell_type": "markdown",
   "metadata": {},
   "source": [
    "# Boolean Operators\n",
    "\n",
    "A `boolean` is either `1` or `0`, `True` or `False`, respectively. With boolean operators such as `and`, `or`, and `not`, you can combine these booleans to perform more advanced queries on your data.\n",
    "The most common operators for comparisons with `boolean` are `and`, `or`, and `not`. The operator `and` returns `True` only if both `booleans` are `True` themselves. The `or` operator is similar but only one of the `boolean` has to be `True`. Finally, the `not` operator negates the `boolean` value that is used on.\n",
    "\n",
    "For Numpy things are a bit different. It works the same way for greater or less than operators, but not for `and`, `or`, and `not`. For those, you need the functions `numpy.logical_and()`, `numpy.logical_or`, and `numpy.logical_not`. The operation is done element-wise. To retrieve only the values that meet the `boolean` operator, you can subset using a `boolean` array."
   ]
  },
  {
   "cell_type": "code",
   "execution_count": null,
   "metadata": {},
   "outputs": [],
   "source": [
    "x = 12\n",
    "\n",
    "# The `and` operator returns `True` when every other boolean is `True`\n",
    "print(5 < x and x < 15)\n",
    "\n",
    "# The `or` operator, at least one boolean must be `True`\n",
    "print(5 < x or x > 15)\n",
    "\n",
    "# The `not` operator negates the boolean\n",
    "print(not True)\n",
    "\n",
    "# For arrays\n",
    "import numpy as np\n",
    "your_house = np.array([14, 24, 4, 9])\n",
    "print(np.logical_and(your_house > 12, your_house < 19))\n",
    "\n",
    "# Subsetting for the values that meet the boolean operator\n",
    "print(your_house[np.logical_and(your_house > 12, your_house < 19)])\n"
   ]
  }
 ],
 "metadata": {
  "kernelspec": {
   "display_name": "Python 3",
   "language": "python",
   "name": "python3"
  },
  "language_info": {
   "codemirror_mode": {
    "name": "ipython",
    "version": 3
   },
   "file_extension": ".py",
   "mimetype": "text/x-python",
   "name": "python",
   "nbconvert_exporter": "python",
   "pygments_lexer": "ipython3",
   "version": "3.6.1"
  }
 },
 "nbformat": 4,
 "nbformat_minor": 2
}
