{
 "cells": [
  {
   "cell_type": "markdown",
   "metadata": {},
   "source": [
    "# Lists\n",
    "\n",
    "Instead of having a variable for many measurement, you can store them in a list, which is a collection of values under a single name. The values can be of any `type`, including other lists."
   ]
  },
  {
   "cell_type": "code",
   "execution_count": 2,
   "metadata": {},
   "outputs": [
    {
     "name": "stdout",
     "output_type": "stream",
     "text": [
      "[1.73, 1.68, 1.83]\n"
     ]
    }
   ],
   "source": [
    "family_height = [1.73, 1.68, 1.83]\n",
    "print(family_height)"
   ]
  },
  {
   "cell_type": "code",
   "execution_count": 3,
   "metadata": {},
   "outputs": [
    {
     "name": "stdout",
     "output_type": "stream",
     "text": [
      "['son', 1.73, 'mom', 1.68, 'dad', 1.83]\n"
     ]
    }
   ],
   "source": [
    "family_height = [\"son\", 1.73, \"mom\", 1.68, \"dad\", 1.83]\n",
    "print(family_height)"
   ]
  },
  {
   "cell_type": "markdown",
   "metadata": {},
   "source": [
    "When the items of a list are lists themselves, you have a list of list (sublists), which are their own type `list`"
   ]
  },
  {
   "cell_type": "code",
   "execution_count": 5,
   "metadata": {},
   "outputs": [
    {
     "name": "stdout",
     "output_type": "stream",
     "text": [
      "[['son', 1.73], ['mom', 1.68], ['dad', 1.83]]\n"
     ]
    },
    {
     "data": {
      "text/plain": [
       "list"
      ]
     },
     "execution_count": 5,
     "metadata": {},
     "output_type": "execute_result"
    }
   ],
   "source": [
    "family = [[\"son\", 1.73], [\"mom\", 1.68], [\"dad\", 1.83]]\n",
    "print(family)\n",
    "type(family)"
   ]
  },
  {
   "cell_type": "markdown",
   "metadata": {},
   "source": [
    "The type `list` has its own functionalities and behaviors, allowing you to  modify them, delete or add new values, and preform other functions."
   ]
  }
 ],
 "metadata": {
  "kernelspec": {
   "display_name": "Python 3",
   "language": "python",
   "name": "python3"
  },
  "language_info": {
   "codemirror_mode": {
    "name": "ipython",
    "version": 3
   },
   "file_extension": ".py",
   "mimetype": "text/x-python",
   "name": "python",
   "nbconvert_exporter": "python",
   "pygments_lexer": "ipython3",
   "version": "3.6.1"
  }
 },
 "nbformat": 4,
 "nbformat_minor": 1
}
