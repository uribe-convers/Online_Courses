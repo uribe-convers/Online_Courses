{
 "cells": [
  {
   "cell_type": "markdown",
   "metadata": {},
   "source": [
    "# Functions"
   ]
  },
  {
   "cell_type": "markdown",
   "metadata": {},
   "source": [
    "Functions are blocks of code that you can reuse many times by just calling the name of the function and not the whole code. You can write your own functions, use someone else's, or use the built-in function that Python comes with. You can assign the output of a function to a variable. Different functions have different numbers of required arguments and/or optional arguments. To know more about a specific function, you can type `help(function)` to get the manual; `help` is a built-in function too! The optional arguments are surrounded by square brackets in the documentations."
   ]
  },
  {
   "cell_type": "code",
   "execution_count": 24,
   "metadata": {},
   "outputs": [
    {
     "name": "stdout",
     "output_type": "stream",
     "text": [
      "Help on built-in function max in module builtins:\n",
      "\n",
      "max(...)\n",
      "    max(iterable, *[, default=obj, key=func]) -> value\n",
      "    max(arg1, arg2, *args, *[, key=func]) -> value\n",
      "    \n",
      "    With a single iterable argument, return its biggest item. The\n",
      "    default keyword-only argument specifies an object to return if\n",
      "    the provided iterable is empty.\n",
      "    With two or more arguments, return the largest argument.\n",
      "\n"
     ]
    }
   ],
   "source": [
    "help(max)"
   ]
  },
  {
   "cell_type": "markdown",
   "metadata": {},
   "source": [
    "# Methods"
   ]
  },
  {
   "cell_type": "markdown",
   "metadata": {},
   "source": [
    "Python is an object oriented language and, as such, each object (variable) has its own specific type of functionalities called **methods**, sort of a function for an object. The methods that are available for each object depend on the `type` of the object. Some types have the same method but it behaves differently, for example, the method `index` returns the index for an element in a list but if it's called on a string it return the index of the letter.\n",
    "\n",
    "There are methods that can modify the object they are called on, e.g., `.append` on a list, but they don't produce any output. "
   ]
  },
  {
   "cell_type": "code",
   "execution_count": 25,
   "metadata": {},
   "outputs": [
    {
     "name": "stdout",
     "output_type": "stream",
     "text": [
      "['liz', 1.3, 'mom', 1.7, 'dad', 1.8]\n",
      "<class 'list'>\n",
      "4\n",
      "<class 'str'>\n",
      "2\n",
      "['liz', 1.3, 'mom', 1.7, 'dad', 1.8, 'me', 1.78]\n"
     ]
    }
   ],
   "source": [
    "fam = [\"liz\", 1.3, \"mom\", 1.70, \"dad\", 1.8]\n",
    "sister = \"liz\"\n",
    "\n",
    "print(fam)\n",
    "print(type(fam))\n",
    "print(fam.index(\"dad\"))\n",
    "print(type(sister))\n",
    "print(sister.index(\"z\"))\n",
    "\n",
    "fam.append(\"me\")\n",
    "fam.append(1.78)\n",
    "print(fam)\n"
   ]
  },
  {
   "cell_type": "markdown",
   "metadata": {},
   "source": [
    "# Packages"
   ]
  },
  {
   "cell_type": "markdown",
   "metadata": {},
   "source": [
    "Packages are directories of Python scripts, and each script is called a **module**, written to solve specific problems. Not all packages are available with python, you need to download and install them, and call them from your script. The easiest way to download and install packages is with `pip`. \n",
    "\n",
    "Once you have your packages, you need to import them as a whole or import some modules from the package. To import the whole package, type `import package`, and the functions will be available as `package.function`. However, the name of the package might be long and you can import it with an alias by typing `import package as alias`. Now the function is available with `alias.function`. Finally, if you only need a specific function from a package, you can import only that function with `from package import function`, which allows you to simply type `function`. The last way of importing a function reduces the amount of coding but it's less specific because someone else using your code might not know where the function comes from."
   ]
  },
  {
   "cell_type": "code",
   "execution_count": 27,
   "metadata": {},
   "outputs": [
    {
     "data": {
      "text/plain": [
       "'Copyright (c) 2001-2017 Python Software Foundation.\\nAll Rights Reserved.\\n\\nCopyright (c) 2000 BeOpen.com.\\nAll Rights Reserved.\\n\\nCopyright (c) 1995-2001 Corporation for National Research Initiatives.\\nAll Rights Reserved.\\n\\nCopyright (c) 1991-1995 Stichting Mathematisch Centrum, Amsterdam.\\nAll Rights Reserved.'"
      ]
     },
     "execution_count": 27,
     "metadata": {},
     "output_type": "execute_result"
    }
   ],
   "source": [
    "# Whole package \n",
    "import sys\n",
    "sys.copyright\n",
    "\n",
    "# Whole package with an alias\n",
    "import sys as s\n",
    "s.copyright\n",
    "\n",
    "# A single function from a package\n",
    "from sys import copyright\n",
    "copyright"
   ]
  },
  {
   "cell_type": "code",
   "execution_count": null,
   "metadata": {},
   "outputs": [],
   "source": []
  }
 ],
 "metadata": {
  "kernelspec": {
   "display_name": "Python 3",
   "language": "python",
   "name": "python3"
  },
  "language_info": {
   "codemirror_mode": {
    "name": "ipython",
    "version": 3
   },
   "file_extension": ".py",
   "mimetype": "text/x-python",
   "name": "python",
   "nbconvert_exporter": "python",
   "pygments_lexer": "ipython3",
   "version": "3.6.1"
  }
 },
 "nbformat": 4,
 "nbformat_minor": 2
}
