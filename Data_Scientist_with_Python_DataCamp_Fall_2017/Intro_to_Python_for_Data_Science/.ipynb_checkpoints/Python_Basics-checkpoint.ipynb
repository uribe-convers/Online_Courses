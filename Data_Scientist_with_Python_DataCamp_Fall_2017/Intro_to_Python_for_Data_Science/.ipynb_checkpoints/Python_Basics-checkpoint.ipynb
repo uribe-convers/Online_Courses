{
 "cells": [
  {
   "cell_type": "markdown",
   "metadata": {},
   "source": [
    "# Python Basics\n",
    "\n",
    "## Variables\n",
    "\n",
    "You can save information on variables. The variables can be changed, modified, created, and deleted. Variables make your code reproducible, as yu can change one variable in a script and rerun it. Variables can have different types, they can be `float`, `int`, `str`, `bool`, among others. Check the type of the data you have stored in a variable with `type`. "
   ]
  },
  {
   "cell_type": "code",
   "execution_count": 22,
   "metadata": {},
   "outputs": [
    {
     "data": {
      "text/plain": [
       "str"
      ]
     },
     "execution_count": 22,
     "metadata": {},
     "output_type": "execute_result"
    }
   ],
   "source": [
    "height = 1.76\n",
    "weight = 69\n",
    "name = \"Simon\"\n",
    "\n",
    "type(weight)\n",
    "type(height)\n",
    "type(name)"
   ]
  },
  {
   "cell_type": "code",
   "execution_count": 23,
   "metadata": {},
   "outputs": [
    {
     "name": "stdout",
     "output_type": "stream",
     "text": [
      "22.275309917355372\n"
     ]
    }
   ],
   "source": [
    "# Body Mass Index\n",
    "# BMI = weight/height**2\n",
    "\n",
    "BMI = weight / height ** 2\n",
    "print(BMI)"
   ]
  },
  {
   "cell_type": "markdown",
   "metadata": {
    "collapsed": true
   },
   "source": [
    "Depending on the `type` of the variable, the operators act differently. If you use the sum operator (`+`) on a `str`, the two parts are concatenated, however, if it's used on an `int` or `float`, the values are added."
   ]
  },
  {
   "cell_type": "code",
   "execution_count": 19,
   "metadata": {},
   "outputs": [
    {
     "data": {
      "text/plain": [
       "5"
      ]
     },
     "execution_count": 19,
     "metadata": {},
     "output_type": "execute_result"
    }
   ],
   "source": [
    "# for int\n",
    "2 + 3"
   ]
  },
  {
   "cell_type": "code",
   "execution_count": 25,
   "metadata": {},
   "outputs": [
    {
     "data": {
      "text/plain": [
       "'abcd'"
      ]
     },
     "execution_count": 25,
     "metadata": {},
     "output_type": "execute_result"
    }
   ],
   "source": [
    "# for str\n",
    "\"ab\" + \"cd\""
   ]
  },
  {
   "cell_type": "markdown",
   "metadata": {},
   "source": [
    "You can convert variable types easily with `str()`, `float()`, `int()`. For example, to print a string that contains an `int` you could do:"
   ]
  },
  {
   "cell_type": "code",
   "execution_count": 28,
   "metadata": {},
   "outputs": [
    {
     "name": "stdout",
     "output_type": "stream",
     "text": [
      "Simon is 34\n"
     ]
    }
   ],
   "source": [
    "a = 34\n",
    "print(\"Simon is \" + str(a))"
   ]
  },
  {
   "cell_type": "code",
   "execution_count": null,
   "metadata": {
    "collapsed": true
   },
   "outputs": [],
   "source": []
  }
 ],
 "metadata": {
  "kernelspec": {
   "display_name": "Python 3",
   "language": "python",
   "name": "python3"
  },
  "language_info": {
   "codemirror_mode": {
    "name": "ipython",
    "version": 3
   },
   "file_extension": ".py",
   "mimetype": "text/x-python",
   "name": "python",
   "nbconvert_exporter": "python",
   "pygments_lexer": "ipython3",
   "version": "3.6.1"
  }
 },
 "nbformat": 4,
 "nbformat_minor": 1
}
