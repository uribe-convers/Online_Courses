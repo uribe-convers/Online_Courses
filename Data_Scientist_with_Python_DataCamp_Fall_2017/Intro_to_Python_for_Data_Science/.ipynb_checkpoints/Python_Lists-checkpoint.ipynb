{
 "cells": [
  {
   "cell_type": "markdown",
   "metadata": {},
   "source": [
    "# Lists"
   ]
  },
  {
   "cell_type": "markdown",
   "metadata": {},
   "source": [
    "Instead of having a variable for many measurement, you can store them in a list, which is a collection of values under a single name. The values can be of any `type`, including other lists, whihc makes lists a **compound data type**."
   ]
  },
  {
   "cell_type": "code",
   "execution_count": 64,
   "metadata": {},
   "outputs": [
    {
     "name": "stdout",
     "output_type": "stream",
     "text": [
      "[1.73, 1.68, 1.83]\n"
     ]
    }
   ],
   "source": [
    "family_height = [1.73, 1.68, 1.83]\n",
    "print(family_height)"
   ]
  },
  {
   "cell_type": "code",
   "execution_count": 65,
   "metadata": {},
   "outputs": [
    {
     "name": "stdout",
     "output_type": "stream",
     "text": [
      "['son', 1.73, 'mom', 1.68, 'dad', 1.83]\n"
     ]
    }
   ],
   "source": [
    "family_height = [\"son\", 1.73, \"mom\", 1.68, \"dad\", 1.83]\n",
    "print(family_height)"
   ]
  },
  {
   "cell_type": "markdown",
   "metadata": {},
   "source": [
    "When the items of a list are lists themselves, you have a list of list (sublists), which are their own type `list`"
   ]
  },
  {
   "cell_type": "code",
   "execution_count": 66,
   "metadata": {},
   "outputs": [
    {
     "name": "stdout",
     "output_type": "stream",
     "text": [
      "[['son', 1.73], ['mom', 1.68], ['dad', 1.83]]\n"
     ]
    },
    {
     "data": {
      "text/plain": [
       "list"
      ]
     },
     "execution_count": 66,
     "metadata": {},
     "output_type": "execute_result"
    }
   ],
   "source": [
    "family = [[\"son\", 1.73], [\"mom\", 1.68], [\"dad\", 1.83]]\n",
    "print(family)\n",
    "type(family)"
   ]
  },
  {
   "cell_type": "markdown",
   "metadata": {},
   "source": [
    "The type `list` has its own functionalities and behaviors, allowing you to  modify them, delete or add new values, and preform other functions."
   ]
  },
  {
   "cell_type": "markdown",
   "metadata": {},
   "source": [
    "## Subsetting Lists"
   ]
  },
  {
   "cell_type": "markdown",
   "metadata": {},
   "source": [
    "Use the index to access elements in the list. Importantly, Python starts indexing at zero for the first element. Use the square brackets (`[]`) and the corresponding index to access the element."
   ]
  },
  {
   "cell_type": "code",
   "execution_count": 67,
   "metadata": {},
   "outputs": [
    {
     "data": {
      "text/plain": [
       "['son', 1.73]"
      ]
     },
     "execution_count": 67,
     "metadata": {},
     "output_type": "execute_result"
    }
   ],
   "source": [
    "family[0]"
   ]
  },
  {
   "cell_type": "markdown",
   "metadata": {},
   "source": [
    "You can also index from the end of the list using negative indexes, which start with -1 for the last element of a list."
   ]
  },
  {
   "cell_type": "code",
   "execution_count": 68,
   "metadata": {},
   "outputs": [
    {
     "data": {
      "text/plain": [
       "1.83"
      ]
     },
     "execution_count": 68,
     "metadata": {},
     "output_type": "execute_result"
    }
   ],
   "source": [
    "family_height[-1]"
   ]
  },
  {
   "cell_type": "markdown",
   "metadata": {},
   "source": [
    "Besides from indexing, you can also subset a list with slicing, which will return a _new list_ with a range of elements from the original list. The range is separated by a colon (`:`), with the start value being left of it and the end to the right. **Importantly**, the end of the range **_is not_** included in the slice!! \n",
    "\n",
    "You can also leave one of the values empty and it will return all of the elements either from the beginning or the end, i.e., the slice `[2:]` will return every element starting at the second index until the end of the list. Similarly, the range `[:4]` will return every element starting at the beginning of the list up to, but not included, the fourth element."
   ]
  },
  {
   "cell_type": "code",
   "execution_count": 69,
   "metadata": {
    "scrolled": true
   },
   "outputs": [
    {
     "name": "stdout",
     "output_type": "stream",
     "text": [
      "[1.73, 'mom']\n",
      "['son', 1.73, 'mom']\n",
      "[1.68, 'dad', 1.83]\n"
     ]
    }
   ],
   "source": [
    "print(family_height[1:3])\n",
    "print(family_height[:3])\n",
    "print(family_height[3:])\n"
   ]
  },
  {
   "cell_type": "markdown",
   "metadata": {
    "collapsed": true
   },
   "source": [
    "You can subset elements of list and then do something with those. For example, you can extract two heights from the list above and add them up."
   ]
  },
  {
   "cell_type": "code",
   "execution_count": 70,
   "metadata": {},
   "outputs": [
    {
     "name": "stdout",
     "output_type": "stream",
     "text": [
      "1.7466666666666668\n"
     ]
    }
   ],
   "source": [
    "Average_height = (family_height[1] + family_height[3] + family_height[5]) / 3 \n",
    "print(Average_height)"
   ]
  },
  {
   "cell_type": "markdown",
   "metadata": {},
   "source": [
    "## Manipulating Lists"
   ]
  },
  {
   "cell_type": "markdown",
   "metadata": {},
   "source": [
    "You can modify, add, or remove elements from a list; lists are mutable. To modify an element, simply assign a new value to the element using indexing. You can even assign new values with slicing! "
   ]
  },
  {
   "cell_type": "code",
   "execution_count": 71,
   "metadata": {},
   "outputs": [
    {
     "name": "stdout",
     "output_type": "stream",
     "text": [
      "['son', 1.73, 'mom', 1.68, 'dad', 1.83]\n",
      "Old age for son: 1.73\n",
      "New age for son: 1.8\n",
      "['son', 1.8, 'Martha', 1.7, 'dad', 1.83]\n"
     ]
    }
   ],
   "source": [
    "print(family_height)\n",
    "print(\"Old age for son: \"+ str(family_height[1]))\n",
    "\n",
    "family_height[1] = 1.80\n",
    "print(\"New age for son: \"+ str(family_height[1]))\n",
    "\n",
    "family_height[2:4] = [\"Martha\", 1.70]\n",
    "print(family_height)"
   ]
  },
  {
   "cell_type": "markdown",
   "metadata": {},
   "source": [
    "When using the `+` operator with lists, Python will combined the two lists into one that can be stored in a new variable"
   ]
  },
  {
   "cell_type": "code",
   "execution_count": 72,
   "metadata": {},
   "outputs": [
    {
     "name": "stdout",
     "output_type": "stream",
     "text": [
      "['son', 1.8, 'Martha', 1.7, 'dad', 1.83, 'Me', 1.78]\n"
     ]
    }
   ],
   "source": [
    "fam_ext = family_height + [\"Me\", 1.78]\n",
    "print(fam_ext)"
   ]
  },
  {
   "cell_type": "markdown",
   "metadata": {},
   "source": [
    "Finally, to delete elements from a list, use `del`. Because this element is deleted, every other element to the right of it will shifts their index to the left."
   ]
  },
  {
   "cell_type": "code",
   "execution_count": 73,
   "metadata": {
    "scrolled": true
   },
   "outputs": [
    {
     "name": "stdout",
     "output_type": "stream",
     "text": [
      "['son', 1.8, 'Martha', 1.7, 'dad', 1.83]\n",
      "['son', 1.8, 1.7, 'dad', 1.83]\n"
     ]
    }
   ],
   "source": [
    "print(family_height)\n",
    "del(family_height[2])\n",
    "print(family_height)"
   ]
  },
  {
   "cell_type": "markdown",
   "metadata": {},
   "source": [
    "## Memory address for lists"
   ]
  },
  {
   "cell_type": "markdown",
   "metadata": {},
   "source": [
    "How Python stores lists behind the scenes very important to understand. When you create a list `x` with `x = (\"a\", \"b\", \"c\")`, Python stores the list in memory and x points to that address in memory. When you assign `x` to `y` with `y = x`, now both variable point to the **same** address in memory! What that means is that if you change an element in `y` with `y[1] = \"z\"`, it **_will also_** change that element in `x`. If you want for `y` to point to a new address, you need to either create a new list with `y = list(x)` or to slice every element of `x` with `y = x[:]`."
   ]
  }
 ],
 "metadata": {
  "kernelspec": {
   "display_name": "Python 3",
   "language": "python",
   "name": "python3"
  },
  "language_info": {
   "codemirror_mode": {
    "name": "ipython",
    "version": 3
   },
   "file_extension": ".py",
   "mimetype": "text/x-python",
   "name": "python",
   "nbconvert_exporter": "python",
   "pygments_lexer": "ipython3",
   "version": "3.6.1"
  }
 },
 "nbformat": 4,
 "nbformat_minor": 1
}
