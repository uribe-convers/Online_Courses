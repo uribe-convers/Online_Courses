{
 "cells": [
  {
   "cell_type": "markdown",
   "metadata": {},
   "source": [
    "# Numpy"
   ]
  },
  {
   "cell_type": "markdown",
   "metadata": {},
   "source": [
    "List s are a great way to store information and are mutable but they are not ideal to performe calculations over a large number of values quickly, especially if different values are stored in different objects. This can be solved by using NumPy (Numeric Python) and the **NumPy Array**. It behaves similarly to a list but you can do calculations over an entire array quickly and efficiently. Simply install it with `pip3 install numpy`\n",
    "\n",
    "After installing and importing NumPy, you can convert a list to an array with the `array` function-just like changing its type. After this is done, you can do **element-wise calculations**, meaning that the first element of the first array will be used with the first element of the second array!"
   ]
  },
  {
   "cell_type": "code",
   "execution_count": 43,
   "metadata": {},
   "outputs": [
    {
     "name": "stdout",
     "output_type": "stream",
     "text": [
      "[ 20.56932966  21.14631991  25.23634033  28.7037037   23.12467037]\n"
     ]
    }
   ],
   "source": [
    "# Lists with information\n",
    "height = [1.65, 1.78, 1.58, 1.80, 1.57]\n",
    "weight = [56, 67, 63, 93, 57]\n",
    "\n",
    "# Try to calculate body mass index with lists, it will fail!\n",
    "# bmi_list = weight / height ** 2\n",
    "\n",
    "\n",
    "## Using NumPy\n",
    "\n",
    "# Convert to array\n",
    "import numpy as np\n",
    "np_height = np.array(height)\n",
    "np_weight = np.array(weight)\n",
    "\n",
    "# Calculate body mass index (BMI) on the whole array at once\n",
    "bmi = np_weight / np_height ** 2\n",
    "print(bmi)\n"
   ]
  },
  {
   "cell_type": "markdown",
   "metadata": {},
   "source": [
    "## Remarks\n",
    "\n",
    "1) NumPy can do these calculations so easily because it assumes that the arrays contain values of **_the same type!_** If there are multiple types, the array method will try to convert every type to a single one, known as **type coercion**, so pay attention to the type of your inputs and the type of the final array. By the way, the `boolean` `True` and `False` are converted to `1` and `0`, respectively, when coerced to `int`.\n",
    "\n",
    "2) An array is another kind of type in Python, which means that it comes with its own sets of methods. The methods will behave differently than in lists, e.g., if you sum two list you end up with a new list with all the values whereas if you sum up two arrays, python will add up the elements!\n",
    "\n",
    "3) Values in an array can be extracted with subsetting just like in list, i.e., with indices. However, arrays can also be subsetted using an array of `boolean` values. This can give you all the values that are, for example, greater than something, see below."
   ]
  },
  {
   "cell_type": "code",
   "execution_count": 44,
   "metadata": {},
   "outputs": [
    {
     "name": "stdout",
     "output_type": "stream",
     "text": [
      "[1.65, 1.78, 1.58, 1.8, 1.57, 56, 67, 63, 93, 57]\n",
      "[ 57.65  68.78  64.58  94.8   58.57]\n",
      "25.2363403301\n",
      "[ 20.56932966  21.14631991  25.23634033  28.7037037   23.12467037]\n",
      "[False False  True  True  True]\n",
      "[ 25.23634033  28.7037037   23.12467037]\n"
     ]
    }
   ],
   "source": [
    "# Lists added \n",
    "added_list = height + weight\n",
    "print(added_list)\n",
    "\n",
    "# Arrays added\n",
    "added_array = np_height + np_weight\n",
    "print(added_array)\n",
    "\n",
    "# Subsetting arrays\n",
    "# With an index\n",
    "print(bmi[2])\n",
    "\n",
    "# With an array of boolean\n",
    "print(bmi)\n",
    "print(bmi > 23)\n",
    "print(bmi[bmi > 23])\n",
    "\n",
    "\n"
   ]
  },
  {
   "cell_type": "markdown",
   "metadata": {},
   "source": [
    "# 2D NumPy Arrays"
   ]
  },
  {
   "cell_type": "markdown",
   "metadata": {},
   "source": [
    "When creating an array with NumPy, those array are type `numpy.ndarray`, which means that they are N-Dimensional arrays. You can create 1, 2, and N dimensional arrays. For example, a two dimensional array can be created from a list of two lists, and it will create a 2N array where each row corresponds to each list. \n",
    "\n",
    "You can get information about the 2D array with the _attribute_ `numpy.shape()`, which will give you the array's dimensions. N-dimensional arrays can only be of a single type, and multiple types will be coerced into one. \n"
   ]
  },
  {
   "cell_type": "code",
   "execution_count": 45,
   "metadata": {},
   "outputs": [
    {
     "name": "stdout",
     "output_type": "stream",
     "text": [
      "[[ 1  4 56  6  7  8]\n",
      " [ 7  4  3  2  7 32]]\n"
     ]
    },
    {
     "data": {
      "text/plain": [
       "(2, 6)"
      ]
     },
     "execution_count": 45,
     "metadata": {},
     "output_type": "execute_result"
    }
   ],
   "source": [
    "np_2d = np.array([[1, 4, 56, 6, 7, 8], [7, 4, 3, 2, 7, 32]])\n",
    "print(np_2d)\n",
    "\n",
    "np.shape(np_2d)"
   ]
  },
  {
   "cell_type": "markdown",
   "metadata": {},
   "source": [
    "## Subsetting\n",
    "\n",
    "To subset an N-dimensional array, use the same rules for lists and arrays, i.e., square brackets and indices. You can select a row with square brackets and then the element in that row using square brackets again, however, a more efficient way of doing it is using a single pair of square brackets and a comma. **The value before the comma specifies the row and the value after the comma specifies the column**. This is similar to subsetting a `data.frame` in R. This can be done with slicing as well. \n",
    "\n",
    "You can use these intersections of rows and columns to do element-wise calculations."
   ]
  },
  {
   "cell_type": "code",
   "execution_count": 46,
   "metadata": {},
   "outputs": [
    {
     "name": "stdout",
     "output_type": "stream",
     "text": [
      "[[ 1  4 56  6  7  8]\n",
      " [ 7  4  3  2  7 32]]\n",
      "56\n",
      "56\n",
      "[[ 4 56]\n",
      " [ 4  3]]\n",
      "[ 7  4  3  2  7 32]\n"
     ]
    }
   ],
   "source": [
    "print(np_2d)\n",
    "\n",
    "# Using two subsets\n",
    "print(np_2d[0][2])\n",
    "\n",
    "# Using a single subset separated by a comma\n",
    "print(np_2d[0,2])\n",
    "\n",
    "# Slicing, all rows second and third elements\n",
    "print(np_2d[:, 1:3])\n",
    "\n",
    "# All columns in the second row\n",
    "print(np_2d[1, :])\n"
   ]
  },
  {
   "cell_type": "markdown",
   "metadata": {},
   "source": [
    "# NumPy: Basic Statistics\n",
    "The first step to analyzing large datasets is to generate summarizing statistics about it, and NumPy can do this very efficiently. There are many built-in functions such as: `numpy.mean, numpy.median, numpy.corrcoef (correlation), numpy.std (standard deviation)` etc. Other functions like `sum` and `sort` are also available but they are much faster than in lists.  \n",
    "Finally, you can generate data with `numpy.random.normal`, round the numbers with`numpy.round`, and paste various objects in a single array with `numpy.column_stack`.\n"
   ]
  },
  {
   "cell_type": "code",
   "execution_count": 49,
   "metadata": {},
   "outputs": [],
   "source": [
    "import numpy as np\n",
    "\n",
    "height = np.round(np.random.normal(1.75, 0.20, 5000), 2)\n",
    "weight = np.round(np.random.normal(65.35, 15, 5000), 2)\n",
    "np_city = np.column_stack((height, weight))\n"
   ]
  },
  {
   "cell_type": "markdown",
   "metadata": {},
   "source": [
    "## Notes\n",
    "It's always best to check out the mean and median of the data to get an overall distribution of the data and see if there are outliers "
   ]
  }
 ],
 "metadata": {
  "kernelspec": {
   "display_name": "Python 3",
   "language": "python",
   "name": "python3"
  },
  "language_info": {
   "codemirror_mode": {
    "name": "ipython",
    "version": 3
   },
   "file_extension": ".py",
   "mimetype": "text/x-python",
   "name": "python",
   "nbconvert_exporter": "python",
   "pygments_lexer": "ipython3",
   "version": "3.6.1"
  }
 },
 "nbformat": 4,
 "nbformat_minor": 2
}
