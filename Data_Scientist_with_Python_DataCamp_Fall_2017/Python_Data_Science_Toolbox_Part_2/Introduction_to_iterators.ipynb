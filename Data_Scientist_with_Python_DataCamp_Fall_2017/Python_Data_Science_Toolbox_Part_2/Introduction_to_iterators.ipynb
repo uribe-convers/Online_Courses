{
 "cells": [
  {
   "cell_type": "markdown",
   "metadata": {},
   "source": [
    "# Introduction to iterators\n",
    "\n",
    "Some objects are **_iterable_**, like lists, strings, dictionaries, and file connections. This is because these objects have an associated `.iter()` method. Applying the `.iter()` method to an object creates an **_iterator_** object. An `iterator` is defined by having a `.next()` method associated with them that produces the consecutive values.\n",
    "\n",
    "To create an iterator from an iterable object, we only need to call the function `iter` and pass it the iterable, e.g., `x = iter(some_string)`. Then the iterator is passed to the function `next` and it returns the first value. If you call `next` again it will return the next value and so on until there are no more values to return, which results in an `StopIteration` error."
   ]
  },
  {
   "cell_type": "code",
   "execution_count": 10,
   "metadata": {},
   "outputs": [
    {
     "name": "stdout",
     "output_type": "stream",
     "text": [
      "<str_iterator object at 0x106d09be0>\n",
      "D\n",
      "a\n"
     ]
    },
    {
     "ename": "StopIteration",
     "evalue": "",
     "output_type": "error",
     "traceback": [
      "\u001b[0;31m---------------------------------------------------------------------------\u001b[0m",
      "\u001b[0;31mStopIteration\u001b[0m                             Traceback (most recent call last)",
      "\u001b[0;32m<ipython-input-10-91e78d284911>\u001b[0m in \u001b[0;36m<module>\u001b[0;34m()\u001b[0m\n\u001b[1;32m      6\u001b[0m \u001b[0mprint\u001b[0m\u001b[0;34m(\u001b[0m\u001b[0mnext\u001b[0m\u001b[0;34m(\u001b[0m\u001b[0mit\u001b[0m\u001b[0;34m)\u001b[0m\u001b[0;34m)\u001b[0m\u001b[0;34m\u001b[0m\u001b[0m\n\u001b[1;32m      7\u001b[0m \u001b[0mprint\u001b[0m\u001b[0;34m(\u001b[0m\u001b[0mnext\u001b[0m\u001b[0;34m(\u001b[0m\u001b[0mit\u001b[0m\u001b[0;34m)\u001b[0m\u001b[0;34m)\u001b[0m\u001b[0;34m\u001b[0m\u001b[0m\n\u001b[0;32m----> 8\u001b[0;31m \u001b[0mprint\u001b[0m\u001b[0;34m(\u001b[0m\u001b[0mnext\u001b[0m\u001b[0;34m(\u001b[0m\u001b[0mit\u001b[0m\u001b[0;34m)\u001b[0m\u001b[0;34m)\u001b[0m\u001b[0;34m\u001b[0m\u001b[0m\n\u001b[0m\u001b[1;32m      9\u001b[0m \u001b[0;34m\u001b[0m\u001b[0m\n\u001b[1;32m     10\u001b[0m \u001b[0;34m\u001b[0m\u001b[0m\n",
      "\u001b[0;31mStopIteration\u001b[0m: "
     ]
    }
   ],
   "source": [
    "word = \"Da\"\n",
    "\n",
    "it = iter(word)\n",
    "print(it)\n",
    "\n",
    "print(next(it))\n",
    "print(next(it))\n",
    "print(next(it))\n",
    "\n",
    "\n"
   ]
  },
  {
   "cell_type": "markdown",
   "metadata": {},
   "source": [
    "To return all values of an iterator, we can use the star `*` operator, known as the _splat_ operator. This will unpack all vales from an iterator or an iterable. Keep in mind that you can only do this once and it won't return anything the second time because there are no more values to iterate through."
   ]
  },
  {
   "cell_type": "code",
   "execution_count": 19,
   "metadata": {},
   "outputs": [
    {
     "name": "stdout",
     "output_type": "stream",
     "text": [
      "D a t a\n"
     ]
    }
   ],
   "source": [
    "word = \"Data\"\n",
    "it = iter(word)\n",
    "\n",
    "print(*it)"
   ]
  },
  {
   "cell_type": "markdown",
   "metadata": {},
   "source": [
    "To iterate through a dictionary, you need to use the `.items()` method of the dictionary in a `for` loop."
   ]
  },
  {
   "cell_type": "code",
   "execution_count": 20,
   "metadata": {},
   "outputs": [
    {
     "name": "stdout",
     "output_type": "stream",
     "text": [
      "Simon: Uribe\n",
      "Tracy: Peterson\n"
     ]
    }
   ],
   "source": [
    "people = {\"Simon\" : \"Uribe\", \"Tracy\" : \"Peterson\"}\n",
    "\n",
    "for key, value in people.items():\n",
    "    print(key + \": \" + value)"
   ]
  },
  {
   "cell_type": "markdown",
   "metadata": {},
   "source": [
    "To iterate through a file object, use the `iter` and `next` functions to return each line of a file."
   ]
  },
  {
   "cell_type": "code",
   "execution_count": 25,
   "metadata": {},
   "outputs": [
    {
     "name": "stdout",
     "output_type": "stream",
     "text": [
      "contributors,coordinates,created_at,entities,extended_entities,favorite_count,favorited,filter_level,geo,id,id_str,in_reply_to_screen_name,in_reply_to_status_id,in_reply_to_status_id_str,in_reply_to_user_id,in_reply_to_user_id_str,is_quote_status,lang,place,possibly_sensitive,quoted_status,quoted_status_id,quoted_status_id_str,retweet_count,retweeted,retweeted_status,source,text,timestamp_ms,truncated,user\n",
      "\n",
      ",,Tue Mar 29 23:40:17 +0000 2016,\"{'hashtags': [], 'user_mentions': [{'screen_name': 'bpolitics', 'name': 'Bloomberg Politics', 'id': 564111558, 'id_str': '564111558', 'indices': [3, 13]}, {'screen_name': 'krollbondrating', 'name': 'Kroll Bond Ratings', 'id': 1963523857, 'id_str': '1963523857', 'indices': [16, 32]}], 'symbols': [], 'media': [{'sizes': {'large': {'w': 1024, 'h': 691, 'resize': 'fit'}, 'medium': {'w': 600, 'h': 405, 'resize': 'fit'}, 'small': {'w': 340, 'h': 229, 'resize': 'fit'}, 'thumb': {'w': 150, 'h': 150, 'resize': 'crop'}}, 'expanded_url': 'http://twitter.com/bpolitics/status/714950482930896897/photo/1', 'url': 'https://t.co/lJcw0N8EZf', 'media_url_https': 'https://pbs.twimg.com/media/CewDrPtWAAMerOm.jpg', 'source_user_id': 564111558, 'media_url': 'http://pbs.twimg.com/media/CewDrPtWAAMerOm.jpg', 'type': 'photo', 'indices': [139, 140], 'source_status_id': 714950482930896897, 'id_str': '714950482331041795', 'source_user_id_str': '564111558', 'id': 714950482331041795, 'display_url': 'pic.twitter.com/lJcw0N8EZf', 'source_status_id_str': '714950482930896897'}], 'urls': [{'expanded_url': 'http://bloom.bg/1RETAha', 'url': 'https://t.co/pLk7rvoRSn', 'display_url': 'bloom.bg/1RETAha', 'indices': [108, 131]}]}\",\"{'media': [{'sizes': {'large': {'w': 1024, 'h': 691, 'resize': 'fit'}, 'medium': {'w': 600, 'h': 405, 'resize': 'fit'}, 'small': {'w': 340, 'h': 229, 'resize': 'fit'}, 'thumb': {'w': 150, 'h': 150, 'resize': 'crop'}}, 'expanded_url': 'http://twitter.com/bpolitics/status/714950482930896897/photo/1', 'url': 'https://t.co/lJcw0N8EZf', 'media_url_https': 'https://pbs.twimg.com/media/CewDrPtWAAMerOm.jpg', 'source_user_id': 564111558, 'media_url': 'http://pbs.twimg.com/media/CewDrPtWAAMerOm.jpg', 'type': 'photo', 'indices': [139, 140], 'source_status_id': 714950482930896897, 'id_str': '714950482331041795', 'source_user_id_str': '564111558', 'id': 714950482331041795, 'display_url': 'pic.twitter.com/lJcw0N8EZf', 'source_status_id_str': '714950482930896897'}]}\",0,False,low,,714960401759387648,714960401759387648,,,,,,False,en,,False,,,,0,False,\"{'retweeted': False, 'text': \"\".@krollbondrating's Christopher Whalen says Clinton is the weakest Dem candidate in 50 years https://t.co/pLk7rvoRSn https://t.co/lJcw0N8EZf\"\", 'in_reply_to_status_id': None, 'favorite_count': 40, 'in_reply_to_user_id_str': None, 'geo': None, 'is_quote_status': False, 'source': '<a href=\"\"http://www.hootsuite.com\"\" rel=\"\"nofollow\"\">Hootsuite</a>', 'in_reply_to_user_id': None, 'user': {'utc_offset': -14400, 'profile_image_url_https': 'https://pbs.twimg.com/profile_images/714804098890133504/cUO4gD1A_normal.jpg', 'time_zone': 'Eastern Time (US & Canada)', 'contributors_enabled': False, 'url': 'http://www.bloombergpolitics.com', 'id_str': '564111558', 'profile_sidebar_fill_color': 'DDEEF6', 'is_translator': False, 'friends_count': 539, 'default_profile_image': False, 'follow_request_sent': None, 'following': None, 'name': 'Bloomberg Politics', 'profile_use_background_image': True, 'profile_background_image_url': 'http://pbs.twimg.com/profile_background_images/540884395/Bloomberg_twback_orng.jpg', 'screen_name': 'bpolitics', 'profile_sidebar_border_color': 'C0DEED', 'profile_link_color': '0084B4', 'profile_background_tile': False, 'profile_image_url': 'http://pbs.twimg.com/profile_images/714804098890133504/cUO4gD1A_normal.jpg', 'favourites_count': 114, 'location': None, 'geo_enabled': False, 'description': 'Bloomberg Politics is the spot for smart, non-partisan political coverage + analysis. #WADR with @jheil and @MarkHalperin airs at 5pm ET on @BloombergTV.', 'lang': 'en', 'profile_text_color': '333333', 'default_profile': False, 'profile_banner_url': 'https://pbs.twimg.com/profile_banners/564111558/1449075077', 'followers_count': 52842, 'listed_count': 1788, 'verified': True, 'protected': False, 'notifications': None, 'profile_background_color': 'C0DEED', 'profile_background_image_url_https': 'https://pbs.twimg.com/profile_background_images/540884395/Bloomberg_twback_orng.jpg', 'created_at': 'Thu Apr 26 20:50:01 +0000 2012', 'id': 564111558, 'statuses_count': 36188}, 'contributors': None, 'possibly_sensitive': False, 'extended_entities': {'media': [{'sizes': {'large': {'w': 1024, 'h': 691, 'resize': 'fit'}, 'medium': {'w': 600, 'h': 405, 'resize': 'fit'}, 'small': {'w': 340, 'h': 229, 'resize': 'fit'}, 'thumb': {'w': 150, 'h': 150, 'resize': 'crop'}}, 'expanded_url': 'http://twitter.com/bpolitics/status/714950482930896897/photo/1', 'url': 'https://t.co/lJcw0N8EZf', 'id_str': '714950482331041795', 'indices': [117, 140], 'media_url_https': 'https://pbs.twimg.com/media/CewDrPtWAAMerOm.jpg', 'media_url': 'http://pbs.twimg.com/media/CewDrPtWAAMerOm.jpg', 'type': 'photo', 'id': 714950482331041795, 'display_url': 'pic.twitter.com/lJcw0N8EZf'}]}, 'lang': 'en', 'entities': {'hashtags': [], 'user_mentions': [{'screen_name': 'krollbondrating', 'name': 'Kroll Bond Ratings', 'id': 1963523857, 'id_str': '1963523857', 'indices': [1, 17]}], 'symbols': [], 'media': [{'sizes': {'large': {'w': 1024, 'h': 691, 'resize': 'fit'}, 'medium': {'w': 600, 'h': 405, 'resize': 'fit'}, 'small': {'w': 340, 'h': 229, 'resize': 'fit'}, 'thumb': {'w': 150, 'h': 150, 'resize': 'crop'}}, 'expanded_url': 'http://twitter.com/bpolitics/status/714950482930896897/photo/1', 'url': 'https://t.co/lJcw0N8EZf', 'id_str': '714950482331041795', 'indices': [117, 140], 'media_url_https': 'https://pbs.twimg.com/media/CewDrPtWAAMerOm.jpg', 'media_url': 'http://pbs.twimg.com/media/CewDrPtWAAMerOm.jpg', 'type': 'photo', 'id': 714950482331041795, 'display_url': 'pic.twitter.com/lJcw0N8EZf'}], 'urls': [{'expanded_url': 'http://bloom.bg/1RETAha', 'url': 'https://t.co/pLk7rvoRSn', 'display_url': 'bloom.bg/1RETAha', 'indices': [93, 116]}]}, 'favorited': False, 'coordinates': None, 'created_at': 'Tue Mar 29 23:00:52 +0000 2016', 'filter_level': 'low', 'id_str': '714950482930896897', 'place': None, 'id': 714950482930896897, 'truncated': False, 'retweet_count': 31, 'in_reply_to_status_id_str': None, 'in_reply_to_screen_name': None}\",\"<a href=\"\"http://twitter.com\"\" rel=\"\"nofollow\"\">Twitter Web Client</a>\",RT @bpolitics: .@krollbondrating's Christopher Whalen says Clinton is the weakest Dem candidate in 50 years https://t.co/pLk7rvoRSn https:/…,1459294817758,False,\"{'utc_offset': 3600, 'profile_image_url_https': 'https://pbs.twimg.com/profile_images/700888033558720512/KexOIMN4_normal.jpg', 'time_zone': 'London', 'contributors_enabled': False, 'url': 'http://www.get-saved-today.webnode.com', 'id_str': '2290155049', 'profile_sidebar_fill_color': '000000', 'is_translator': False, 'friends_count': 502, 'default_profile_image': False, 'follow_request_sent': None, 'following': None, 'name': 'Born in Britain', 'profile_use_background_image': False, 'profile_background_image_url': 'http://abs.twimg.com/images/themes/theme1/bg.png', 'screen_name': 'greyman25', 'profile_sidebar_border_color': '000000', 'profile_link_color': '1B95E0', 'profile_background_tile': False, 'profile_image_url': 'http://pbs.twimg.com/profile_images/700888033558720512/KexOIMN4_normal.jpg', 'favourites_count': 3961, 'location': 'Yorkshire and The Humber', 'geo_enabled': False, 'description': 'Ex con, dry alcoholic, non smoker, love Jesus Christ &  Britain. Internet evangelist. Pro Israel.', 'lang': 'en', 'profile_text_color': '000000', 'default_profile': False, 'profile_banner_url': 'https://pbs.twimg.com/profile_banners/2290155049/1456586630', 'followers_count': 578, 'listed_count': 71, 'verified': False, 'protected': False, 'notifications': None, 'profile_background_color': '000000', 'profile_background_image_url_https': 'https://abs.twimg.com/images/themes/theme1/bg.png', 'created_at': 'Mon Jan 13 20:05:32 +0000 2014', 'id': 2290155049, 'statuses_count': 23034}\"\n",
      "\n"
     ]
    }
   ],
   "source": [
    "file = open(\"tweets.csv\", \"r\")\n",
    "\n",
    "it = iter(file)\n",
    "\n",
    "print(next(it))\n",
    "\n",
    "print(next(it))"
   ]
  }
 ],
 "metadata": {
  "kernelspec": {
   "display_name": "Python 3",
   "language": "python",
   "name": "python3"
  },
  "language_info": {
   "codemirror_mode": {
    "name": "ipython",
    "version": 3
   },
   "file_extension": ".py",
   "mimetype": "text/x-python",
   "name": "python",
   "nbconvert_exporter": "python",
   "pygments_lexer": "ipython3",
   "version": "3.6.1"
  }
 },
 "nbformat": 4,
 "nbformat_minor": 2
}
